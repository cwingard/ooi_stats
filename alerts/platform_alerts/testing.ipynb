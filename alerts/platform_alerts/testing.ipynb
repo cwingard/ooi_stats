{
 "cells": [
  {
   "cell_type": "code",
   "execution_count": null,
   "metadata": {},
   "outputs": [],
   "source": [
    "import platform_alerts_functions as af\n",
    "import warnings\n",
    "warnings.filterwarnings(\"ignore\")\n",
    "\n",
    "username = ''\n",
    "token = ''\n",
    "\n",
    "array = 'RS'\n",
    "\n",
    "RS_recipients = ['knuth@marine.rutgers.edu']\n",
    "CE_recipients = ['knuth@marine.rutgers.edu']\n",
    "GA_recipients = ['knuth@marine.rutgers.edu']\n",
    "CP_recipients = ['knuth@marine.rutgers.edu']\n",
    "\n",
    "\n",
    "stream_most_recent = af.get_most_recent_eng(array)\n",
    "# alert_deployment_data = af.alert_request_eng_deployments(array,username,token)\n",
    "not_operational = af.request_annotations(array, username, token)\n",
    "request_urls,request_inputs = af.alert_build_eng_requests(array)\n",
    "eng_streams_data = af.send_eng_data_requests(array,request_urls,username,token,\n",
    "                                             RS_recipients,\n",
    "                                             CE_recipients,\n",
    "                                             GA_recipients,\n",
    "                                             CP_recipients)\n",
    "stream_final = af.alert_create_eng_outputs(array,eng_streams_data,request_inputs)\n",
    "stream_final_out = af.alert_create_missing_output(array,stream_final)\n",
    "no_data_not_annotated,annotated_and_not_operational = af.compare_operational(not_operational, stream_final_out)\n",
    "stream_difference_new,stream_difference_resumed = af.stream_compare_output(array, stream_final_out, stream_most_recent, request_inputs)\n",
    "af.alert_send(array,\n",
    "          no_data_not_annotated,\n",
    "          annotated_and_not_operational,\n",
    "          stream_difference_new,\n",
    "          stream_difference_resumed,\n",
    "          RS_recipients,\n",
    "          CE_recipients,\n",
    "          GA_recipients,\n",
    "          CP_recipients)\n"
   ]
  },
  {
   "cell_type": "code",
   "execution_count": null,
   "metadata": {},
   "outputs": [],
   "source": [
    "import netCDF4 as nc\n",
    "import datetime\n",
    "import requests\n",
    "import json\n",
    "anno_base_url = 'https://ooinet.oceanobservatories.org/api/m2m/12580/anno/find?'\n",
    "refdes = 'RS01SBPS-SF01A-2A-CTDPFA102'\n",
    "base_url = 'https://ooinet.oceanobservatories.org/api/m2m/12576/sensor/inv/'\n",
    "beginDT = int(nc.date2num(datetime.datetime.strptime(\"2012-01-01T01:00:01Z\",'%Y-%m-%dT%H:%M:%SZ'),'seconds since 1970-01-01')*1000)\n",
    "endDT = int(nc.date2num(datetime.datetime.utcnow(),'seconds since 1970-01-01')*1000)\n",
    "\n",
    "data_request_url = anno_base_url + 'beginDT='+str(beginDT)+'&endDT='+str(endDT)+'&refdes='+refdes\n",
    "r = requests.get(data_request_url, auth=(username, token))\n",
    "data = r.json()\n",
    "\n",
    "print(json.dumps(data, indent=2))"
   ]
  }
 ],
 "metadata": {
  "kernelspec": {
   "display_name": "stats",
   "language": "python",
   "name": "stats"
  },
  "language_info": {
   "codemirror_mode": {
    "name": "ipython",
    "version": 3
   },
   "file_extension": ".py",
   "mimetype": "text/x-python",
   "name": "python",
   "nbconvert_exporter": "python",
   "pygments_lexer": "ipython3",
   "version": "3.5.5"
  }
 },
 "nbformat": 4,
 "nbformat_minor": 2
}
